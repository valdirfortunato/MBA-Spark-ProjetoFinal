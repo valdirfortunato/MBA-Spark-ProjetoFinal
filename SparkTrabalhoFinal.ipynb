{
 "cells": [
  {
   "cell_type": "markdown",
   "id": "2c80a66a-8937-4f77-ae38-35a761b07875",
   "metadata": {},
   "source": [
    "## Inicio"
   ]
  },
  {
   "cell_type": "code",
   "execution_count": 14,
   "id": "5fc7116a-0c13-4fa4-8a8c-2365ccec572d",
   "metadata": {},
   "outputs": [],
   "source": [
    "from pyspark.sql import SparkSession\n",
    "from pyspark.sql.functions import *\n",
    "from pyspark.sql.types import *\n",
    "from sqlalchemy import create_engine\n",
    "import datetime as dt\n",
    "import json\n",
    "import ast\n",
    "\n",
    "KAFKA_TOPIC_NAME = \"test\"\n",
    "KAFKA_TOPIC_SINK_NAME = \"sink\"\n",
    "KAFKA_BOOTSTRAP_SERVERS = \"localhost:9092\"\n",
    "# CHECKPOINT_LOCATION = \"LOCAL DIRECTORY LOCATION (FOR DEBUGGING PURPOSES)\"\n",
    "CHECKPOINT_LOCATION = \"/home/jovyan/work/tmp\"\n"
   ]
  },
  {
   "cell_type": "markdown",
   "id": "377d645f-2138-41c4-9dfd-f447cc1b0b13",
   "metadata": {},
   "source": [
    "## Cria sessão do spark"
   ]
  },
  {
   "cell_type": "code",
   "execution_count": 15,
   "id": "5e355ca4-bd75-42c8-bea1-9b0c1c16f47d",
   "metadata": {},
   "outputs": [],
   "source": [
    "scala_version = '2.12'\n",
    "spark_version = '3.2.1'\n",
    "kafka_version = '3.3.1'\n",
    "\n",
    "packages = [\n",
    "    f'org.apache.spark:spark-sql-kafka-0-10_{scala_version}:{spark_version}',\n",
    "    f'org.apache.kafka:kafka-clients:{kafka_version}',\n",
    "    'org.xerial:sqlite-jdbc:3.34.0'\n",
    "]\n",
    "\n",
    "spark = (\n",
    "    SparkSession.builder.appName(\"PysparkKafkaStreaming\")\n",
    "    .master(\"local[*]\")\n",
    "    .config(\"spark.jars.packages\", \",\".join(packages))\n",
    "    .getOrCreate()\n",
    ") \n",
    "spark.sparkContext.setLogLevel(\"ERROR\")"
   ]
  },
  {
   "cell_type": "markdown",
   "id": "691f4274-441b-4486-adc4-2a1ed659024d",
   "metadata": {},
   "source": [
    "## Leitura do banco de dados"
   ]
  },
  {
   "cell_type": "code",
   "execution_count": 16,
   "id": "c6545a57",
   "metadata": {},
   "outputs": [
    {
     "name": "stdout",
     "output_type": "stream",
     "text": [
      "root\n",
      " |-- cod_cliente: integer (nullable = true)\n",
      " |-- nome: string (nullable = true)\n",
      " |-- idade: long (nullable = true)\n",
      " |-- gerente_conta: string (nullable = true)\n",
      " |-- conta_corrente: long (nullable = true)\n",
      " |-- tipo_conta: string (nullable = true)\n",
      " |-- score: long (nullable = true)\n",
      "\n"
     ]
    }
   ],
   "source": [
    "df_read_db = spark.read.format('jdbc') \\\n",
    "        .options(driver='org.sqlite.JDBC', dbtable='tb_cliente',\n",
    "                 url='jdbc:sqlite:/home/jovyan/work/database/database.db') \\\n",
    "        .load()\n",
    "\n",
    "df_read_db.printSchema()"
   ]
  },
  {
   "cell_type": "code",
   "execution_count": 17,
   "id": "6ffafd76",
   "metadata": {},
   "outputs": [
    {
     "name": "stdout",
     "output_type": "stream",
     "text": [
      "+-----------+---------+-----+-------------+--------------+----------+-----+\n",
      "|cod_cliente|     nome|idade|gerente_conta|conta_corrente|tipo_conta|score|\n",
      "+-----------+---------+-----+-------------+--------------+----------+-----+\n",
      "|          1|     Joao|   25|Fulano de tal|          1234|     Povao|   50|\n",
      "|          2|    Maria|   30|Fulano de tal|          4321|    Chefao|   90|\n",
      "|          3|    Pedro|   32|     Beltrano|          1212|     Ricao|   95|\n",
      "|          4|Sebastiao|   44|     Beltrano|          3232|     Ricao|   92|\n",
      "|          5|     Jose|   44|     Beltrano|          3232|     Povao|   30|\n",
      "|          6|    Joana|   44|Fulano de tal|          3232|     Povao|   35|\n",
      "+-----------+---------+-----+-------------+--------------+----------+-----+\n",
      "\n"
     ]
    }
   ],
   "source": [
    "df_read_db.show()"
   ]
  },
  {
   "cell_type": "markdown",
   "id": "54922e3c-b0c8-4765-996f-894425b36283",
   "metadata": {},
   "source": [
    "## Definição da função"
   ]
  },
  {
   "cell_type": "code",
   "execution_count": 18,
   "id": "e44c3ede",
   "metadata": {},
   "outputs": [],
   "source": [
    "#def funcao_exemplo(df, batchID):\n",
    "#    if df.count()>0:\n",
    "#            df.join(df_read_db, on='cod_cliente', how='left') \\\n",
    "#            .select(to_json(struct(col(\"*\"))).alias(\"value\")) \\\n",
    "#            .write \\\n",
    "#            .format(\"kafka\") \\\n",
    "#            .option(\"kafka.bootstrap.servers\", KAFKA_BOOTSTRAP_SERVERS) \\\n",
    "#            .option(\"topic\", KAFKA_TOPIC_SINK_NAME) \\\n",
    "#           .save()\n",
    "#   return df\n",
    "\n",
    "def funcao_exemplo(df): #, batchID):\n",
    "    if df.count()>0:\n",
    "        df = df.join(df_read_db, on='cod_cliente', how='left') \\\n",
    "        .withColumn(\"oferta\", when(df_read_db.score >= 90,\"Investimento\").otherwise(\"Emprestimo\")) \\\n",
    "        .withColumn(\"saldo\", when(df.tipo_op == \"saque\",df.saldo - df.valor_op)\n",
    "                                .when(df.tipo_op == \"deposito\",df.saldo + df.valor_op)) \\\n",
    "        .select(\"cod_cliente\",\"nome\",\"idade\",\"agencia\",\"conta_corrente\",\"tipo_conta\",\"gerente_conta\",\"score\",\"oferta\",\"saldo\")\n",
    "    return df"
   ]
  },
  {
   "cell_type": "markdown",
   "id": "a9f7c80e-cddf-4ba8-aa55-d91aaf98a824",
   "metadata": {},
   "source": [
    "## Enriquecimento"
   ]
  },
  {
   "cell_type": "code",
   "execution_count": 19,
   "id": "a0d27521-cb65-4fd0-8775-30ea451d6805",
   "metadata": {},
   "outputs": [
    {
     "name": "stdout",
     "output_type": "stream",
     "text": [
      "+-----------+---------+-----+-------+--------------+----------+-------------+-----+------------+-----+\n",
      "|cod_cliente|     nome|idade|agencia|conta_corrente|tipo_conta|gerente_conta|score|      oferta|saldo|\n",
      "+-----------+---------+-----+-------+--------------+----------+-------------+-----+------------+-----+\n",
      "|          1|     Joao|   25|     27|          1234|     Povao|Fulano de tal|   50|  Emprestimo|  566|\n",
      "|          2|    Maria|   30|    223|          4321|    Chefao|Fulano de tal|   90|Investimento| 5500|\n",
      "|          3|    Pedro|   32|    100|          1212|     Ricao|     Beltrano|   95|Investimento| 5500|\n",
      "|          4|Sebastiao|   44|     27|          3232|     Ricao|     Beltrano|   92|Investimento| 9000|\n",
      "|          5|     Jose|   44|    105|          3232|     Povao|     Beltrano|   30|  Emprestimo| 5300|\n",
      "+-----------+---------+-----+-------+--------------+----------+-------------+-----+------------+-----+\n",
      "\n"
     ]
    }
   ],
   "source": [
    "message_data = [{'cod_cliente': 1, 'agencia': 27, 'valor_op': 100, 'tipo_op': 'saque', 'data': str(dt.date.today()), 'saldo': 666},\n",
    "                {'cod_cliente': 2, 'agencia': 223, 'valor_op': 500, 'tipo_op': 'deposito', 'data': str(dt.date.today()), 'saldo': 5000},\n",
    "                {'cod_cliente': 3, 'agencia': 100, 'valor_op': 500, 'tipo_op': 'deposito', 'data': str(dt.date.today()), 'saldo': 5000},\n",
    "                {'cod_cliente': 4, 'agencia': 27, 'valor_op': 1000, 'tipo_op': 'saque', 'data': str(dt.date.today()), 'saldo': 10000},\n",
    "                {'cod_cliente': 5, 'agencia': 105, 'valor_op': 300, 'tipo_op': 'deposito', 'data': str(dt.date.today()), 'saldo': 5000}]\n",
    "\n",
    "_schema = (\n",
    "    StructType()\n",
    "    .add(\"cod_cliente\", IntegerType())\n",
    "    .add('agencia', IntegerType())\n",
    "    .add('valor_op', IntegerType())\n",
    "    .add('tipo_op', StringType())\n",
    "    .add('data', StringType())\n",
    "    .add('saldo', IntegerType())\n",
    ")\n",
    "\n",
    "df = spark.createDataFrame(message_data,_schema)\n",
    "\n",
    "df2 = funcao_exemplo(df)\n",
    "\n",
    "df2.show()\n",
    "\n",
    "#df.show()\n",
    "\n",
    "#df.printSchema()"
   ]
  },
  {
   "cell_type": "markdown",
   "id": "2e7efa09-64b5-4af2-85cf-80a5c3d16d5d",
   "metadata": {},
   "source": [
    "## Leitura do kafka"
   ]
  },
  {
   "cell_type": "code",
   "execution_count": null,
   "id": "35ba14f2",
   "metadata": {},
   "outputs": [],
   "source": [
    "df_kfk = (\n",
    "    spark.readStream.format(\"kafka\")\n",
    "    .option(\"kafka.bootstrap.servers\", KAFKA_BOOTSTRAP_SERVERS)\n",
    "    .option(\"subscribe\", KAFKA_TOPIC_NAME)\n",
    "    .option(\"startingOffsets\", \"latest\")\n",
    "    .load()\n",
    ")"
   ]
  },
  {
   "cell_type": "code",
   "execution_count": null,
   "id": "424dc3ae-0e2c-4568-aef5-757bfce32238",
   "metadata": {},
   "outputs": [],
   "source": [
    "_schema = (\n",
    "    StructType()\n",
    "    .add(\"cod_cliente\", IntegerType())\n",
    "    .add('agencia', IntegerType())\n",
    "    .add('valor_op', IntegerType())\n",
    "    .add('tipo_op', StringType())\n",
    "    .add('data', StringType())\n",
    "    .add('saldo', IntegerType())\n",
    ")\n",
    "\n",
    "df_base = df_kfk.selectExpr(\"CAST(key AS STRING)\", \"CAST(value as STRING)\", \"timestamp\")\n",
    "df_base = df_base.select(from_json(col(\"value\"), _schema).alias(\"values\"), \"timestamp\")\n",
    "df_base = df_base.select(\"values.*\")"
   ]
  },
  {
   "cell_type": "markdown",
   "id": "0ed317c5-ab44-4609-b099-349072e0df9a",
   "metadata": {},
   "source": [
    "## Escrita no topico sink"
   ]
  },
  {
   "cell_type": "code",
   "execution_count": null,
   "id": "8e1d4fba",
   "metadata": {},
   "outputs": [],
   "source": [
    "stream_final = df_base \\\n",
    "    .writeStream \\  \n",
    "    .format(\"kafka\") \\\n",
    "    .option(\"kafka.bootstrap.servers\", KAFKA_BOOTSTRAP_SERVERS) \\\n",
    "    .option(\"topic\", KAFKA_TOPIC_SINK_NAME) \\\n",
    "    .option(\"checkpointLocation\", CHECKPOINT_LOCATION) \\\n",
    "    #.foreachBatch(funcao_exemplo) \\\n",
    "    .outputMode(\"append\") \\\n",
    "    .start()"
   ]
  },
  {
   "cell_type": "code",
   "execution_count": null,
   "id": "ba08a7b7",
   "metadata": {},
   "outputs": [],
   "source": [
    "stream_final.status"
   ]
  },
  {
   "cell_type": "code",
   "execution_count": null,
   "id": "7c29547d",
   "metadata": {},
   "outputs": [],
   "source": [
    "teste = stream_final.exception()\n",
    "print(teste)"
   ]
  },
  {
   "cell_type": "code",
   "execution_count": null,
   "id": "81077d25",
   "metadata": {},
   "outputs": [],
   "source": [
    "teste = stream_final.stop()"
   ]
  },
  {
   "cell_type": "code",
   "execution_count": null,
   "id": "ff237da6-79ea-4598-973d-80d25c6b850a",
   "metadata": {
    "tags": []
   },
   "outputs": [],
   "source": [
    "stream_final.awaitTermination()"
   ]
  }
 ],
 "metadata": {
  "kernelspec": {
   "display_name": "Python 3 (ipykernel)",
   "language": "python",
   "name": "python3"
  },
  "language_info": {
   "codemirror_mode": {
    "name": "ipython",
    "version": 3
   },
   "file_extension": ".py",
   "mimetype": "text/x-python",
   "name": "python",
   "nbconvert_exporter": "python",
   "pygments_lexer": "ipython3",
   "version": "3.10.8"
  },
  "vscode": {
   "interpreter": {
    "hash": "31f2aee4e71d21fbe5cf8b01ff0e069b9275f58929596ceb00d14d90e3e16cd6"
   }
  }
 },
 "nbformat": 4,
 "nbformat_minor": 5
}
